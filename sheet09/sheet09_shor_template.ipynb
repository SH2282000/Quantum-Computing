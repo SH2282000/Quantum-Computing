{
 "cells": [
  {
   "cell_type": "markdown",
   "id": "21303bf8",
   "metadata": {},
   "source": [
    "# Exercise Sheet 9\n",
    "Decrypt an RSA Message using the Period Finding Algorithm\n",
    "## Task 9.1: RSA Encryption\n",
    "Given is an RSA system with the parameters p = 11,q = 5 and the public key pk = 17.\n",
    "- a) Encrypt the message m = “&” with the public key to obtain the ciphertext c. To do this, use the ASCII code of\n",
    "m = “&” = 38.\n",
    "\n"
   ]
  },
  {
   "cell_type": "code",
   "execution_count": 2,
   "id": "8cddd674",
   "metadata": {},
   "outputs": [],
   "source": [
    "from sympy import mod_inverse\n",
    "import random\n",
    "import math"
   ]
  },
  {
   "cell_type": "code",
   "execution_count": 50,
   "id": "bca25952",
   "metadata": {},
   "outputs": [
    {
     "name": "stdout",
     "output_type": "stream",
     "text": [
      "math.gcd(17, 40)=1; pk and phi_N needs to be coprime!\n"
     ]
    },
    {
     "data": {
      "text/plain": [
       "3"
      ]
     },
     "execution_count": 50,
     "metadata": {},
     "output_type": "execute_result"
    }
   ],
   "source": [
    "m = 38\n",
    "\n",
    "# Choose two random prime numbers p and q.\n",
    "p = 11\n",
    "q = 5\n",
    "# Calculate the product (RSA modulus) N = pq and Euler’s totient function φ(N) = (p − 1)(q − 1).\n",
    "n = p * q  # n = 55\n",
    "phi_n = (p - 1)*(q - 1)\n",
    "\n",
    "# Choose a number pk that is not related to φ(N) such that pk < φ(N).\n",
    "pk = 17  # = random.randint(1, phi_n-1)\n",
    "\n",
    "print(f\"{math.gcd(17, 40)=}; pk and phi_N needs to be coprime!\")\n",
    "# Calculate the multiplicative inverse sk of pk with respect to φ(N), i.e., solve the equation\n",
    "# pk · sk ≡ 1 mod φ(N).\n",
    "sk = mod_inverse(pk, phi_n)\n",
    "\n",
    "# (pk, N) is published as the public key, sk is the secret key. The remaining variables are no longer required.\n",
    "pk = (pk, n)\n",
    "\n",
    "\n",
    "# Encryption\n",
    "c = pow(m, pk[0], n)\n",
    "\n",
    "c # The cifer"
   ]
  },
  {
   "cell_type": "markdown",
   "id": "d26dbbae",
   "metadata": {},
   "source": [
    "- b) Show that the secret key sk = 33 is correct by decrypting c with it. You should get m = 38 again."
   ]
  },
  {
   "cell_type": "code",
   "execution_count": 52,
   "id": "b437647c",
   "metadata": {},
   "outputs": [
    {
     "name": "stdout",
     "output_type": "stream",
     "text": [
      "c = 3, decrypted_m = 38\n"
     ]
    }
   ],
   "source": [
    "# Decryption\n",
    "decrypted_m = pow(c, sk, n)\n",
    "\n",
    "print(f\"{c = }, {decrypted_m = }\")"
   ]
  },
  {
   "cell_type": "markdown",
   "id": "d0e35c34",
   "metadata": {},
   "source": [
    "## Task 9.2: RSA Encryption\n",
    "Decoding using the Period Finding Algorithm\n",
    "In this task, you will decrypt the ciphertext c from the previous task without knowing the secret key sk. Instead, you will calculate a “second key” for this ciphertext.\n",
    "- a) Calculate the period r for cx ≡1 mod N. For example, you can create a table of values in WolframAlpha11 with the following command: Table[{x,Mod[c^x, N]}, {x, 1, 100, 1}]. The smallest value that maps to 1 is the\n",
    "period.\n",
    "\n",
    "From the previous task we know that $c = 48$, and $N = p \\times q = 55$\n"
   ]
  },
  {
   "cell_type": "code",
   "execution_count": 45,
   "id": "bec4d261",
   "metadata": {},
   "outputs": [
    {
     "data": {
      "text/plain": [
       "[(0, 1),\n",
       " (1, 48),\n",
       " (2, 49),\n",
       " (3, 42),\n",
       " (4, 36),\n",
       " (5, 23),\n",
       " (6, 4),\n",
       " (7, 27),\n",
       " (8, 31),\n",
       " (9, 3),\n",
       " (10, 34),\n",
       " (11, 37),\n",
       " (12, 16),\n",
       " (13, 53),\n",
       " (14, 14),\n",
       " (15, 12),\n",
       " (16, 26),\n",
       " (17, 38),\n",
       " (18, 9),\n",
       " (19, 47),\n",
       " (20, 1),\n",
       " (21, 48),\n",
       " (22, 49),\n",
       " (23, 42),\n",
       " (24, 36)]"
      ]
     },
     "execution_count": 45,
     "metadata": {},
     "output_type": "execute_result"
    }
   ],
   "source": [
    "[(x, (48 ** x) % 55) for x in range(25)] # Python equivalent for Table[{x,Mod[c^x, N]}, {x, 1, 25, 1}]"
   ]
  },
  {
   "cell_type": "code",
   "execution_count": 14,
   "id": "ee56485c",
   "metadata": {},
   "outputs": [],
   "source": [
    "r = 20"
   ]
  },
  {
   "cell_type": "markdown",
   "id": "e578bbdb",
   "metadata": {},
   "source": [
    "- b) Find a “second key” ˆsk for which pk · ˆsk ≡1 mod r.\n",
    "\n",
    "$pk=17$\n",
    "\n",
    "$r=20$\n",
    "\n",
    "$$17 \\times \\hat{sk} ≡ 1 (\\mod20)$$\n",
    "\n",
    "\n",
    "Thus, let us first find out if 20 and 17 are co-prime (the greatest common divisor is 1):\n",
    "\n",
    "$$\n",
    "\\begin{aligned}\n",
    "20&=1\\times17+3\\\\\n",
    "17&=5\\times3+2\\\\\n",
    "3&=1\\times2+1\\\\\n",
    "2&=2\\times1+0\\\\\n",
    "\\end{aligned}\n",
    "$$\n",
    "\n",
    "As they are co-prime, we now use the Extended Euclidean Algorithm to express 1 as a combination of 17 and 20:\n",
    "\n",
    "$$\n",
    "\\begin{aligned}\n",
    "1&=3-1\\times2\\\\\n",
    "1&=3-1\\times(17-5\\times3)\\\\\n",
    "1&=3-17+5\\times3\\\\\n",
    "1&=6\\times3-1\\times17\\\\\n",
    "1&=6\\times20-6\\times17-1\\times17\\\\\n",
    "1&=6\\times20-7\\times17\\\\\n",
    "\\end{aligned}\n",
    "$$\n",
    "\n",
    "we need $\\hat{sk}$ s.t. $-7 \\mod 20 = \\hat{sk} \\mod 20$, with $\\hat{sk} > 0$. Thus $-7+20=13=\\hat{sk}$ is a good solution."
   ]
  },
  {
   "cell_type": "code",
   "execution_count": 53,
   "id": "778d7f11",
   "metadata": {},
   "outputs": [],
   "source": [
    "# Same in Python :)\n",
    "second_sk = mod_inverse(pk[0], r)"
   ]
  },
  {
   "cell_type": "code",
   "execution_count": 54,
   "id": "2e51bb0e",
   "metadata": {},
   "outputs": [
    {
     "data": {
      "text/plain": [
       "13"
      ]
     },
     "execution_count": 54,
     "metadata": {},
     "output_type": "execute_result"
    }
   ],
   "source": [
    "second_sk"
   ]
  },
  {
   "cell_type": "markdown",
   "id": "646adff4",
   "metadata": {},
   "source": [
    "- c) Show that the calculated secret key ˆsk works by decrypting c with the secret key. You should get m = 38 again.\n"
   ]
  },
  {
   "cell_type": "code",
   "execution_count": 56,
   "id": "29962ea4",
   "metadata": {},
   "outputs": [
    {
     "name": "stdout",
     "output_type": "stream",
     "text": [
      "17 3\n",
      "c = 3, decrypted_m = 38\n"
     ]
    }
   ],
   "source": [
    "print(pk[0], c)\n",
    "\n",
    "# Decryption with second key\n",
    "decrypted_m = pow(c, second_sk, n)\n",
    "\n",
    "print(f\"{c = }, {decrypted_m = }\")"
   ]
  },
  {
   "cell_type": "markdown",
   "id": "a7199791",
   "metadata": {},
   "source": [
    "## Task 9.2: Prime Factorization using the Period Finding Algorithm\n",
    "### Compile the following cell first to create all necessary classes"
   ]
  },
  {
   "cell_type": "code",
   "execution_count": null,
   "id": "6f023713",
   "metadata": {},
   "outputs": [
    {
     "data": {
      "text/html": [
       "<style>.container { width:100% !important; }</style>"
      ],
      "text/plain": [
       "<IPython.core.display.HTML object>"
      ]
     },
     "metadata": {},
     "output_type": "display_data"
    }
   ],
   "source": [
    "from IPython.display import display, HTML\n",
    "display(HTML(\"<style>.container { width:100% !important; }</style>\"))\n",
    "from abc import ABC\n",
    "\n",
    "import numpy as np\n",
    "# Importing standard Qiskit libraries\n",
    "from qiskit import QuantumCircuit, QuantumRegister, ClassicalRegister\n",
    "from qiskit_aer import AerSimulator\n",
    "\n",
    "def run(circuit):\n",
    "    # returns how often a measurement result was observed\n",
    "    sim = AerSimulator()\n",
    "    job = sim.run(circuit.decompose(reps=6))\n",
    "    r = job.result().get_counts()\n",
    "    return r\n",
    "\n",
    "# This code is part of Qiskit.\n",
    "#\n",
    "# (C) Copyright IBM 2019, 2021.\n",
    "#\n",
    "# This code is licensed under the Apache License, Version 2.0. You may\n",
    "# obtain a copy of this license in the LICENSE.txt file in the root directory\n",
    "# of this source tree or at http://www.apache.org/licenses/LICENSE-2.0.\n",
    "#\n",
    "# Any modifications or derivative works of this code must retain this\n",
    "# copyright notice, and modified files need to carry a notice indicating\n",
    "# that they have been altered from the originals.\n",
    "\n",
    "\"\"\"Shor's factoring algorithm.\"\"\"\n",
    "\n",
    "from typing import Optional, Union, Tuple\n",
    "import math\n",
    "import array\n",
    "import fractions\n",
    "import logging as logger\n",
    "import numpy as np\n",
    "\n",
    "from qiskit import ClassicalRegister, QuantumCircuit, QuantumRegister\n",
    "from qiskit.circuit import Gate, Instruction, ParameterVector\n",
    "from qiskit.circuit.library import QFT\n",
    "\n",
    "\n",
    "class MyShor(ABC):\n",
    "    \"\"\"Shor's factoring algorithm.\n",
    "\n",
    "    Shor's Factoring algorithm is one of the most well-known quantum algorithms and finds the\n",
    "    prime factors for input integer :math:`N` in polynomial time.\n",
    "\n",
    "    The input integer :math:`N` to be factored is expected to be odd and greater than 2.\n",
    "    Even though this implementation is general, its capability will be limited by the\n",
    "    capacity of the simulator/hardware. Another input integer :math:`a`  can also be supplied,\n",
    "    which needs to be a co-prime smaller than :math:`N` .\n",
    "    \"\"\"\n",
    "\n",
    "    def __init__(self,\n",
    "                 N: int = 15,\n",
    "                 a: int = 2) -> None:\n",
    "        \"\"\"\n",
    "        Args:\n",
    "            N: The integer to be factored, has a min. value of 3.\n",
    "            a: Any integer that satisfies 1 < a < N and gcd(a, N) = 1.\n",
    "            quantum_instance: Quantum Instance or Backend\n",
    "\n",
    "         Raises:\n",
    "            ValueError: Invalid input\n",
    "        \"\"\"\n",
    "        self._validate_min('N', N, 3)\n",
    "        self._validate_min('a', a, 2)\n",
    "        self._n = None  # type: Optional[int]\n",
    "        self._up_qreg = None\n",
    "        self._down_qreg = None  # type: Optional[QuantumRegister]\n",
    "        self._aux_qreg = None  # type: Optional[QuantumRegister]\n",
    "\n",
    "        # check the input integer\n",
    "        if N < 1 or N % 2 == 0:\n",
    "            raise ValueError('The input needs to be an odd integer greater than 1.')\n",
    "\n",
    "        self._N = N\n",
    "\n",
    "        if a >= N or math.gcd(a, self._N) != 1:\n",
    "            raise ValueError('The integer a needs to satisfy a < N and gcd(a, N) = 1.')\n",
    "\n",
    "        self._a = a\n",
    "\n",
    "        self._ret = {\"factors\": [], \"total_counts\": 0, \"successful_counts\": 0}\n",
    "\n",
    "        # check if the input integer is a power\n",
    "        tf, b, p = self._is_power(N, return_decomposition=True)\n",
    "        if tf:\n",
    "            logger.info('The input integer is a power: %s=%s^%s.', N, b, p)\n",
    "            self._ret['factors'].append(b)\n",
    "\n",
    "        self._qft = QFT(do_swaps=False).to_instruction()\n",
    "        self._iqft = self._qft.inverse()\n",
    "\n",
    "        self._phi_add_N = None  # type: Optional[Gate]\n",
    "        self._iphi_add_N = None\n",
    "\n",
    "    def _is_power(self, num, return_decomposition=False):\n",
    "        \"\"\"\n",
    "        Check if num is a perfect power in O(n^3) time, n=ceil(logN)\n",
    "        \"\"\"\n",
    "        b = 2\n",
    "        while (2**b) <= num:\n",
    "            a = 1\n",
    "            c = num\n",
    "            while (c - a) >= 2:\n",
    "                m = int((a + c) / 2)\n",
    "                if (m**b) < (num + 1):\n",
    "                    p = int(m**b)\n",
    "                else:\n",
    "                    p = int(num + 1)\n",
    "                if int(p) == int(num):\n",
    "                    if return_decomposition:\n",
    "                        return True, int(m), int(b)\n",
    "                    else:\n",
    "                        return True\n",
    "                if p < num:\n",
    "                    a = int(m)\n",
    "                else:\n",
    "                    c = int(m)\n",
    "            b = b + 1\n",
    "        if return_decomposition:\n",
    "            return False, num, 1\n",
    "        else:\n",
    "            return False\n",
    "\n",
    "    def _summarize_circuits(self, circuits):\n",
    "        \"\"\"Summarize circuits based on QuantumCircuit, and five metrics are summarized.\n",
    "            - Number of qubits\n",
    "            - Number of classical bits\n",
    "            - Number of operations\n",
    "            - Depth of circuits\n",
    "            - Counts of different gate operations\n",
    "        The average statistic of the first four is provided if multiple circuits are provided.\n",
    "        Args:\n",
    "            circuits (QuantumCircuit or [QuantumCircuit]): the to-be-summarized circuits\n",
    "        Returns:\n",
    "            str: a formatted string records the summary\n",
    "        \"\"\"\n",
    "        if not isinstance(circuits, list):\n",
    "            circuits = [circuits]\n",
    "        ret = \"\"\n",
    "        ret += f\"Submitting {len(circuits)} circuits.\\n\"\n",
    "        ret += \"============================================================================\\n\"\n",
    "        stats = np.zeros(4)\n",
    "        for i, circuit in enumerate(circuits):\n",
    "            depth = circuit.depth()\n",
    "            size = circuit.size()\n",
    "            num_qubits = sum(reg.size for reg in circuit.qregs)\n",
    "            num_clbits = sum(reg.size for reg in circuit.cregs)\n",
    "            op_counts = circuit.count_ops()\n",
    "            stats[0] += num_qubits\n",
    "            stats[1] += num_clbits\n",
    "            stats[2] += size\n",
    "            stats[3] += depth\n",
    "            ret = \"\".join(\n",
    "                [\n",
    "                    ret,\n",
    "                    \"{}-th circuit: {} qubits, {} classical bits and {} \"\n",
    "                    \"operations with depth {}\\nop_counts: {}\\n\".format(\n",
    "                        i, num_qubits, num_clbits, size, depth, op_counts\n",
    "                    ),\n",
    "                ]\n",
    "            )\n",
    "        if len(circuits) > 1:\n",
    "            stats /= len(circuits)\n",
    "            ret = \"\".join(\n",
    "                [\n",
    "                    ret,\n",
    "                    \"Average: {:.2f} qubits, {:.2f} classical bits and {:.2f} \"\n",
    "                    \"operations with depth {:.2f}\\n\".format(stats[0], stats[1], stats[2], stats[3]),\n",
    "                ]\n",
    "            )\n",
    "        ret += \"============================================================================\\n\"\n",
    "        return ret\n",
    "\n",
    "    def _validate_min(self, name: str, value: float, minimum: float) -> None:\n",
    "        \"\"\"\n",
    "        Args:\n",
    "            name: value name.\n",
    "            value: value to check.\n",
    "            minimum: minimum value allowed.\n",
    "        Raises:\n",
    "            ValueError: invalid value\n",
    "        \"\"\"\n",
    "        if value < minimum:\n",
    "            raise ValueError(f\"{name} must have value >= {minimum}, was {value}\")\n",
    "\n",
    "    def _get_angles(self, a: int) -> np.ndarray:\n",
    "        \"\"\"Calculates the array of angles to be used in the addition in Fourier Space.\"\"\"\n",
    "        s = bin(int(a))[2:].zfill(self._n + 1)\n",
    "        angles = np.zeros([self._n + 1])\n",
    "        for i in range(0, self._n + 1):\n",
    "            for j in range(i, self._n + 1):\n",
    "                if s[j] == '1':\n",
    "                    angles[self._n - i] += math.pow(2, -(j - i))\n",
    "            angles[self._n - i] *= np.pi\n",
    "        return angles[::-1]\n",
    "\n",
    "    @staticmethod\n",
    "    def _phi_add_gate(size: int, angles: Union[np.ndarray, ParameterVector]) -> Gate:\n",
    "        \"\"\"Gate that performs addition by a in Fourier Space.\"\"\"\n",
    "        circuit = QuantumCircuit(size, name=\"phi_add\")\n",
    "        for i, angle in enumerate(angles):\n",
    "            circuit.p(angle, i)\n",
    "        return circuit.to_gate()\n",
    "\n",
    "    def _double_controlled_phi_add_mod_N(self,\n",
    "                                         num_qubits: int,\n",
    "                                         angles: Union[np.ndarray, ParameterVector]\n",
    "                                         ) -> QuantumCircuit:\n",
    "        \"\"\"Creates a circuit which implements double-controlled modular addition by a.\"\"\"\n",
    "        circuit = QuantumCircuit(num_qubits, name=\"phi_add\")\n",
    "\n",
    "        ctl_up = 0\n",
    "        ctl_down = 1\n",
    "        ctl_aux = 2\n",
    "\n",
    "        # get qubits from aux register, omitting the control qubit\n",
    "        qubits = range(3, num_qubits)\n",
    "        \n",
    "        qft = QFT(len(qubits)).to_instruction()\n",
    "        iqft = qft.inverse()\n",
    "\n",
    "        # store the gates representing addition/subtraction by a in Fourier Space\n",
    "        phi_add_a = self._phi_add_gate(len(qubits), angles)\n",
    "        iphi_add_a = phi_add_a.inverse()\n",
    "\n",
    "        circuit.append(phi_add_a.control(2), [ctl_up, ctl_down, *qubits])\n",
    "        circuit.append(self._iphi_add_N, qubits)\n",
    "        circuit.append(iqft, qubits)\n",
    "\n",
    "        circuit.cx(qubits[0], ctl_aux)\n",
    "\n",
    "        circuit.append(qft, qubits)\n",
    "        circuit.append(self._phi_add_N, qubits)\n",
    "        circuit.append(iphi_add_a.control(2), [ctl_up, ctl_down, *qubits])\n",
    "        circuit.append(iqft, qubits)\n",
    "\n",
    "        circuit.x(qubits[0])\n",
    "        circuit.cx(qubits[0], ctl_aux)\n",
    "        circuit.x(qubits[0])\n",
    "\n",
    "        circuit.append(qft, qubits)\n",
    "        circuit.append(phi_add_a.control(2), [ctl_up, ctl_down, *qubits])\n",
    "        \n",
    "        return circuit\n",
    "\n",
    "    def _controlled_multiple_mod_N(self, num_qubits: int, a: int) -> Instruction:\n",
    "        \"\"\"Implements modular multiplication by a as an instruction.\"\"\"\n",
    "        circuit = QuantumCircuit(\n",
    "            num_qubits, name=\"multiply_by_{}_mod_{}\".format(a % self._N, self._N)\n",
    "        )\n",
    "        down = circuit.qubits[1: self._n + 1]\n",
    "        aux = circuit.qubits[self._n + 1:]\n",
    "        qubits = [aux[i] for i in reversed(range(self._n + 1))]\n",
    "        ctl_up = 0\n",
    "        ctl_aux = aux[-1]\n",
    "\n",
    "        angle_params = ParameterVector(\"angles\", length=len(aux) - 1)\n",
    "        double_controlled_phi_add = self._double_controlled_phi_add_mod_N(\n",
    "            len(aux) + 2, angle_params\n",
    "        )\n",
    "        idouble_controlled_phi_add = double_controlled_phi_add.inverse()\n",
    "        \n",
    "        qft = QFT(len(qubits)).to_instruction()\n",
    "        iqft = qft.inverse()\n",
    "        \n",
    "        circuit.append(qft, qubits)\n",
    "\n",
    "        # perform controlled addition by a on the aux register in Fourier space\n",
    "        for i, ctl_down in enumerate(down):\n",
    "            a_exp = (2 ** i) * a % self._N\n",
    "            angles = self._get_angles(a_exp)\n",
    "            bound = double_controlled_phi_add.assign_parameters({angle_params: angles})\n",
    "            circuit.append(bound, [ctl_up, ctl_down, ctl_aux, *qubits])\n",
    "\n",
    "        circuit.append(iqft, qubits)\n",
    "\n",
    "        # perform controlled subtraction by a in Fourier space on both the aux and down register\n",
    "        for j in range(self._n):\n",
    "            circuit.cswap(ctl_up, down[j], aux[j])\n",
    "        circuit.append(qft, qubits)\n",
    "\n",
    "        a_inv = self.modinv(a, self._N)\n",
    "        for i in reversed(range(len(down))):\n",
    "            a_exp = (2 ** i) * a_inv % self._N\n",
    "            angles = self._get_angles(a_exp)\n",
    "            bound = idouble_controlled_phi_add.assign_parameters({angle_params: angles})\n",
    "            circuit.append(bound, [ctl_up, down[i], ctl_aux, *qubits])\n",
    "\n",
    "        circuit.append(iqft, qubits)\n",
    "        return circuit.to_instruction()\n",
    "\n",
    "    def construct_circuit(self, measurement: bool = True) -> QuantumCircuit:\n",
    "        \"\"\"Construct circuit.\n",
    "\n",
    "        Args:\n",
    "            measurement: Boolean flag to indicate if measurement should be included in the circuit.\n",
    "\n",
    "        Returns:\n",
    "            Quantum circuit.\n",
    "        \"\"\"\n",
    "\n",
    "        # Get n value used in Shor's algorithm, to know how many qubits are used\n",
    "        self._n = math.ceil(math.log(self._N, 2))\n",
    "        self._qft.num_qubits = self._n + 1\n",
    "        self._iqft.num_qubits = self._n + 1\n",
    "\n",
    "        # quantum register where the sequential QFT is performed\n",
    "        self._up_qreg = QuantumRegister(2 * self._n, name='up')\n",
    "        # quantum register where the multiplications are made\n",
    "        self._down_qreg = QuantumRegister(self._n, name='down')\n",
    "        # auxiliary quantum register used in addition and multiplication\n",
    "        self._aux_qreg = QuantumRegister(self._n + 2, name='aux')\n",
    "\n",
    "        # Create Quantum Circuit\n",
    "        circuit = QuantumCircuit(self._up_qreg,\n",
    "                                 self._down_qreg,\n",
    "                                 self._aux_qreg,\n",
    "                                 name=\"Shor(N={}, a={})\".format(self._N, self._a))\n",
    "\n",
    "        # Create gates to perform addition/subtraction by N in Fourier Space\n",
    "        self._phi_add_N = self._phi_add_gate(self._aux_qreg.size - 1, self._get_angles(self._N))\n",
    "        self._iphi_add_N = self._phi_add_N.inverse()\n",
    "\n",
    "        # Create maximal superposition in top register\n",
    "        circuit.h(self._up_qreg)\n",
    "\n",
    "        # Initialize down register to 1\n",
    "        circuit.x(self._down_qreg[0])\n",
    "\n",
    "        # Apply the multiplication gates as showed in\n",
    "        # the report in order to create the exponentiation\n",
    "        for i, ctl_up in enumerate(self._up_qreg):  # type: ignore\n",
    "            a = int(pow(self._a, pow(2, i)))\n",
    "            controlled_multiple_mod_N = self._controlled_multiple_mod_N(\n",
    "                len(self._down_qreg) + len(self._aux_qreg) + 1, a,\n",
    "            )\n",
    "            circuit.append(\n",
    "                controlled_multiple_mod_N, [ctl_up, *self._down_qreg, *self._aux_qreg]\n",
    "            )\n",
    "        \n",
    "        # Apply inverse QFT\n",
    "        iqft = QFT(len(self._up_qreg)).inverse().reverse_bits().to_instruction()\n",
    "        circuit.append(iqft, self._up_qreg)\n",
    "\n",
    "        if measurement:\n",
    "            up_cqreg = ClassicalRegister(2 * self._n, name='m')\n",
    "            circuit.add_register(up_cqreg)\n",
    "            circuit.measure(self._up_qreg, up_cqreg)\n",
    "\n",
    "        logger.info(self._summarize_circuits(circuit))\n",
    "\n",
    "        return circuit\n",
    "\n",
    "    @staticmethod\n",
    "    def modinv(a: int, m: int) -> int:\n",
    "        \"\"\"Returns the modular multiplicative inverse of a with respect to the modulus m.\"\"\"\n",
    "        def egcd(a: int, b: int) -> Tuple[int, int, int]:\n",
    "            if a == 0:\n",
    "                return b, 0, 1\n",
    "            else:\n",
    "                g, y, x = egcd(b % a, a)\n",
    "                return g, x - (b // a) * y, y\n",
    "\n",
    "        g, x, _ = egcd(a, m)\n",
    "        if g != 1:\n",
    "            raise ValueError(\"The greatest common divisor of {} and {} is {}, so the \"\n",
    "                             \"modular inverse does not exist.\".format(a, m, g))\n",
    "        return x % m\n",
    "\n",
    "    def get_period(self, keylist: list):\n",
    "        period = []\n",
    "        for measurement in keylist:\n",
    "            \"\"\"Apply the continued fractions to find r and the gcd to find the desired factors.\"\"\"\n",
    "            x_final = int(measurement, 2)\n",
    "            logger.info('In decimal, x_final value for this result is: %s.', x_final)\n",
    "\n",
    "            if x_final <= 0:\n",
    "                fail_reason = 'x_final value is <= 0, there are no continued fractions.'\n",
    "            else:\n",
    "                fail_reason = None\n",
    "                logger.debug('Running continued fractions for this case.')\n",
    "\n",
    "            # Calculate T and x/T\n",
    "            T_upper = len(measurement)\n",
    "            T = pow(2, T_upper)\n",
    "            x_over_T = x_final / T\n",
    "\n",
    "            # Cycle in which each iteration corresponds to putting one more term in the\n",
    "            # calculation of the Continued Fraction (CF) of x/T\n",
    "\n",
    "            # Initialize the first values according to CF rule\n",
    "            i = 0\n",
    "            b = array.array('i')\n",
    "            t = array.array('f')\n",
    "\n",
    "            b.append(math.floor(x_over_T))\n",
    "            t.append(x_over_T - b[i])\n",
    "\n",
    "            exponential = 0.0\n",
    "                \n",
    "            \n",
    "            while i < self._N and fail_reason is None:\n",
    "                # From the 2nd iteration onwards, calculate the new terms of the CF based\n",
    "                # on the previous terms as the rule suggests\n",
    "                if i > 0:\n",
    "                    b.append(math.floor(1 / t[i - 1]))\n",
    "                    t.append((1 / t[i - 1]) - b[i])  # type: ignore\n",
    "\n",
    "                # Calculate the denominator of the CF using the known terms\n",
    "                denominator = self._calculate_continued_fraction(b)\n",
    "\n",
    "                # Increment i for next iteration\n",
    "                i += 1\n",
    "\n",
    "                if denominator < 1000:\n",
    "                    try:\n",
    "                        exponential = pow(self._a, denominator / 2)\n",
    "                    except OverflowError:\n",
    "                        pass\n",
    "\n",
    "                # Check if the value is too big or not\n",
    "                if exponential > 1000000000:\n",
    "                    fail_reason = 'denominator of continued fraction is too big.'\n",
    "                if pow(self._a, denominator, self._N) == 1: \n",
    "                    period.append(denominator)\n",
    "                if t[len(t)-1] == 0:\n",
    "                    break\n",
    "        return min(period)\n",
    "        \n",
    "\n",
    "    @staticmethod\n",
    "    def _calculate_continued_fraction(b: array.array) -> int:\n",
    "        \"\"\"Calculate the continued fraction of x/T from the current terms of expansion b.\"\"\"\n",
    "\n",
    "        x_over_T = 0\n",
    "\n",
    "        for i in reversed(range(len(b) - 1)):\n",
    "            x_over_T = 1 / (b[i + 1] + x_over_T)\n",
    "\n",
    "        x_over_T += b[0]\n",
    "\n",
    "        # Get the denominator from the value obtained\n",
    "        frac = fractions.Fraction(x_over_T).limit_denominator()\n",
    "\n",
    "        logger.debug('Approximation number %s of continued fractions:', len(b))\n",
    "        logger.debug(\"Numerator:%s \\t\\t Denominator: %s.\", frac.numerator, frac.denominator)\n",
    "        return frac.denominator\n",
    "    \n",
    "    def _run(self):\n",
    "        return 0"
   ]
  },
  {
   "cell_type": "markdown",
   "id": "cd410bfd",
   "metadata": {},
   "source": [
    "## Exercise 9.3 c-i)\n",
    "\n",
    "> *Note:* This computation should take no longer than five minutes.\n",
    "\n",
    "> *Hint:* \n",
    "> First construct the quantum circuit. \n",
    "> Then use the function `run(circuit)` to run the quantum circuit. \n",
    "> Then compute the period dependent on the measurement result count.\n",
    "> There are two functions of the class `MyShor` that you need for this."
   ]
  },
  {
   "cell_type": "code",
   "execution_count": null,
   "id": "69c8fdce",
   "metadata": {},
   "outputs": [],
   "source": [
    "a = 2\n",
    "N = 21\n",
    "#Todo: Put your code for 10.3 c-i here"
   ]
  },
  {
   "cell_type": "markdown",
   "id": "a87d38df",
   "metadata": {},
   "source": [
    "## Exercise 9.3 c-ii)\n",
    "    \n",
    "> *Note:* The computation of the factors might take some time (around one hour). First test your function with small numbers (e.g., $N=21$) before testing with $N=55$.\n",
    "\n",
    "> *Hint:* You need to implement the EEA and the classical part of Shor's algorithm."
   ]
  },
  {
   "cell_type": "code",
   "execution_count": null,
   "id": "9d5d06bf",
   "metadata": {},
   "outputs": [],
   "source": [
    "def breakRSA(pk: int, N: int):\n",
    "    #Todo: Put your code for 10.3 c-ii here\n",
    "    pass"
   ]
  },
  {
   "cell_type": "code",
   "execution_count": null,
   "id": "5ad6f64d",
   "metadata": {},
   "outputs": [],
   "source": [
    "#Input\n",
    "breakRSA(pk=3,N=55)"
   ]
  },
  {
   "cell_type": "code",
   "execution_count": null,
   "id": "1f438b7b-420c-44b5-82e1-c862f64f93f7",
   "metadata": {},
   "outputs": [],
   "source": []
  }
 ],
 "metadata": {
  "kernelspec": {
   "display_name": "Python 3 (ipykernel)",
   "language": "python",
   "name": "python3"
  },
  "language_info": {
   "codemirror_mode": {
    "name": "ipython",
    "version": 3
   },
   "file_extension": ".py",
   "mimetype": "text/x-python",
   "name": "python",
   "nbconvert_exporter": "python",
   "pygments_lexer": "ipython3",
   "version": "3.10.9"
  },
  "widgets": {
   "application/vnd.jupyter.widget-state+json": {
    "state": {
     "09c7bc05b8b84f8096a091dac4e7a8f9": {
      "model_module": "@jupyter-widgets/base",
      "model_module_version": "2.0.0",
      "model_name": "LayoutModel",
      "state": {
       "width": "95px"
      }
     },
     "0d4c01a6eef341d6ae2b7020554022d0": {
      "model_module": "@jupyter-widgets/controls",
      "model_module_version": "2.0.0",
      "model_name": "HTMLModel",
      "state": {
       "layout": "IPY_MODEL_577a242f86cb4581ad2aaabad690cdc8",
       "style": "IPY_MODEL_e027ba45ba7e47e59a97082600370f3b",
       "value": "<p style='font-family: IBM Plex Sans, Arial, Helvetica, sans-serif; font-size: 20px; font-weight: medium;'>Circuit Properties</p>"
      }
     },
     "17472a31752841bd939d737e5d94a9b7": {
      "model_module": "@jupyter-widgets/controls",
      "model_module_version": "2.0.0",
      "model_name": "HTMLStyleModel",
      "state": {
       "description_width": "",
       "font_size": null,
       "text_color": null
      }
     },
     "1a80fa33b3f643bfa5fbd77cffb17440": {
      "model_module": "@jupyter-widgets/controls",
      "model_module_version": "2.0.0",
      "model_name": "HBoxModel",
      "state": {
       "children": [
        "IPY_MODEL_760d7923260f49b2989a765bfe72679a",
        "IPY_MODEL_f76bb1e9ec0d47f596e1464d0fce1466",
        "IPY_MODEL_e5ac4b961e274b0a852983b49139d0fb",
        "IPY_MODEL_503c5a71d28f4bcfb793b4fc0e9a5f7d",
        "IPY_MODEL_21a7cd95ac184f7aaab513589d61ed57"
       ],
       "layout": "IPY_MODEL_cfc03dd475ce4d4199c42827da97149f"
      }
     },
     "21a7cd95ac184f7aaab513589d61ed57": {
      "model_module": "@jupyter-widgets/controls",
      "model_module_version": "2.0.0",
      "model_name": "HTMLModel",
      "state": {
       "layout": "IPY_MODEL_75fc2966703445f783a7d632b4776b7b",
       "style": "IPY_MODEL_b9e8c119e116459492f29506a6a49333",
       "value": "<h5>Message</h5>"
      }
     },
     "48e28d6457a741b8a4f61648b1d62345": {
      "model_module": "@jupyter-widgets/controls",
      "model_module_version": "2.0.0",
      "model_name": "ButtonModel",
      "state": {
       "button_style": "primary",
       "description": "Clear",
       "layout": "IPY_MODEL_721197db651f460280f7ed8a27c355b3",
       "style": "IPY_MODEL_7fa1a5129fd44c32be59ce33b2355bfb",
       "tooltip": null
      }
     },
     "503c5a71d28f4bcfb793b4fc0e9a5f7d": {
      "model_module": "@jupyter-widgets/controls",
      "model_module_version": "2.0.0",
      "model_name": "HTMLModel",
      "state": {
       "layout": "IPY_MODEL_847ce4a61ff84b3ca848781d09fd1b08",
       "style": "IPY_MODEL_69a0e01db47441a1bcfab4b0189b676d",
       "value": "<h5>Queue</h5>"
      }
     },
     "577a242f86cb4581ad2aaabad690cdc8": {
      "model_module": "@jupyter-widgets/base",
      "model_module_version": "2.0.0",
      "model_name": "LayoutModel",
      "state": {
       "margin": "0px 0px 10px 0px"
      }
     },
     "69a0e01db47441a1bcfab4b0189b676d": {
      "model_module": "@jupyter-widgets/controls",
      "model_module_version": "2.0.0",
      "model_name": "HTMLStyleModel",
      "state": {
       "description_width": "",
       "font_size": null,
       "text_color": null
      }
     },
     "721197db651f460280f7ed8a27c355b3": {
      "model_module": "@jupyter-widgets/base",
      "model_module_version": "2.0.0",
      "model_name": "LayoutModel",
      "state": {
       "grid_area": "right",
       "padding": "0px 0px 0px 0px",
       "width": "70px"
      }
     },
     "72e75093b5b04064b16dd957a791024d": {
      "model_module": "@jupyter-widgets/controls",
      "model_module_version": "2.0.0",
      "model_name": "HTMLStyleModel",
      "state": {
       "description_width": "",
       "font_size": null,
       "text_color": null
      }
     },
     "75fc2966703445f783a7d632b4776b7b": {
      "model_module": "@jupyter-widgets/base",
      "model_module_version": "2.0.0",
      "model_name": "LayoutModel",
      "state": {}
     },
     "760d7923260f49b2989a765bfe72679a": {
      "model_module": "@jupyter-widgets/controls",
      "model_module_version": "2.0.0",
      "model_name": "HTMLModel",
      "state": {
       "layout": "IPY_MODEL_87e819984edd454cb172bc6f942c9085",
       "style": "IPY_MODEL_e5d55e2ed27042e9bcbd7d15be72cc6b",
       "value": "<h5>Job ID</h5>"
      }
     },
     "7bf600be6b934410862733e5dd6bb466": {
      "model_module": "@jupyter-widgets/base",
      "model_module_version": "2.0.0",
      "model_name": "LayoutModel",
      "state": {
       "width": "145px"
      }
     },
     "7fa1a5129fd44c32be59ce33b2355bfb": {
      "model_module": "@jupyter-widgets/controls",
      "model_module_version": "2.0.0",
      "model_name": "ButtonStyleModel",
      "state": {
       "font_family": null,
       "font_size": null,
       "font_style": null,
       "font_variant": null,
       "font_weight": null,
       "text_color": null,
       "text_decoration": null
      }
     },
     "847ce4a61ff84b3ca848781d09fd1b08": {
      "model_module": "@jupyter-widgets/base",
      "model_module_version": "2.0.0",
      "model_name": "LayoutModel",
      "state": {
       "width": "70px"
      }
     },
     "87e819984edd454cb172bc6f942c9085": {
      "model_module": "@jupyter-widgets/base",
      "model_module_version": "2.0.0",
      "model_name": "LayoutModel",
      "state": {
       "width": "190px"
      }
     },
     "aa35fece7f934fcabae6b9e28ac14b23": {
      "model_module": "@jupyter-widgets/controls",
      "model_module_version": "2.0.0",
      "model_name": "GridBoxModel",
      "state": {
       "children": [
        "IPY_MODEL_48e28d6457a741b8a4f61648b1d62345"
       ],
       "layout": "IPY_MODEL_df21412979be40ae95ccf7f7afd1ef3f"
      }
     },
     "b9e8c119e116459492f29506a6a49333": {
      "model_module": "@jupyter-widgets/controls",
      "model_module_version": "2.0.0",
      "model_name": "HTMLStyleModel",
      "state": {
       "description_width": "",
       "font_size": null,
       "text_color": null
      }
     },
     "cfc03dd475ce4d4199c42827da97149f": {
      "model_module": "@jupyter-widgets/base",
      "model_module_version": "2.0.0",
      "model_name": "LayoutModel",
      "state": {
       "margin": "0px 0px 0px 37px",
       "width": "600px"
      }
     },
     "df21412979be40ae95ccf7f7afd1ef3f": {
      "model_module": "@jupyter-widgets/base",
      "model_module_version": "2.0.0",
      "model_name": "LayoutModel",
      "state": {
       "grid_template_areas": "\n                                       \". . . . right \"\n                                        ",
       "grid_template_columns": "20% 20% 20% 20% 20%",
       "width": "100%"
      }
     },
     "e027ba45ba7e47e59a97082600370f3b": {
      "model_module": "@jupyter-widgets/controls",
      "model_module_version": "2.0.0",
      "model_name": "HTMLStyleModel",
      "state": {
       "description_width": "",
       "font_size": null,
       "text_color": null
      }
     },
     "e5ac4b961e274b0a852983b49139d0fb": {
      "model_module": "@jupyter-widgets/controls",
      "model_module_version": "2.0.0",
      "model_name": "HTMLModel",
      "state": {
       "layout": "IPY_MODEL_09c7bc05b8b84f8096a091dac4e7a8f9",
       "style": "IPY_MODEL_72e75093b5b04064b16dd957a791024d",
       "value": "<h5>Status</h5>"
      }
     },
     "e5d55e2ed27042e9bcbd7d15be72cc6b": {
      "model_module": "@jupyter-widgets/controls",
      "model_module_version": "2.0.0",
      "model_name": "HTMLStyleModel",
      "state": {
       "description_width": "",
       "font_size": null,
       "text_color": null
      }
     },
     "f76bb1e9ec0d47f596e1464d0fce1466": {
      "model_module": "@jupyter-widgets/controls",
      "model_module_version": "2.0.0",
      "model_name": "HTMLModel",
      "state": {
       "layout": "IPY_MODEL_7bf600be6b934410862733e5dd6bb466",
       "style": "IPY_MODEL_17472a31752841bd939d737e5d94a9b7",
       "value": "<h5>Backend</h5>"
      }
     }
    },
    "version_major": 2,
    "version_minor": 0
   }
  }
 },
 "nbformat": 4,
 "nbformat_minor": 5
}
